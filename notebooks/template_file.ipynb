{
 "cells": [
  {
   "cell_type": "markdown",
   "metadata": {},
   "source": [
    "# Template File\n",
    "This notebook is a template that can be used for subsequent notebooks. \n",
    "\n",
    "The naming convention is explained in the title, but here is some more explanation of the format:\n",
    "\n",
    "```\n",
    "X.y-<initials>-<file_details>.ipynb\n",
    "```\n",
    "\n",
    "* `X`: number to denote a unique topic\n",
    "* `y`: number to denote sub-topic\n",
    "* `<initials>`: the users two- or three-letter initials\n",
    "* `<file_details>`: filename that contains information on what the notebooks explores\n",
    "\n",
    "Some expamples:\n",
    "```\n",
    "1.0-hef-data_exploration\n",
    "1.1-hef-data_processing\n",
    "2.0-hef-visualizations\n",
    "2.1-hef-bivar_visualizations\n",
    "3.0-hef-analysis\n",
    "3.1-hef-ml_models\n",
    "```\n",
    "\n",
    "Please delete this cell and/or replace with another cell that provides more detail on the specific code."
   ]
  },
  {
   "cell_type": "markdown",
   "metadata": {},
   "source": [
    "## Package Import"
   ]
  },
  {
   "cell_type": "code",
   "execution_count": 1,
   "metadata": {},
   "outputs": [],
   "source": [
    "# appends the root directory to path since \\notebooks\\ is down one level\n",
    "import sys\n",
    "sys.path.append('../')\n",
    "\n",
    "# data science\n",
    "import pandas as pd\n",
    "import numpy as np\n",
    "pd.set_option('display.max_columns', 500)\n",
    "\n",
    "# commonly-used packages\n",
    "import math\n",
    "from datetime import datetime\n",
    "\n",
    "# local packages\n",
    "#from src import xxx\n",
    "\n",
    "# magic functions so that import user-made modules are continuously recompiled\n",
    "%load_ext autoreload\n",
    "%autoreload 2"
   ]
  },
  {
   "cell_type": "markdown",
   "metadata": {},
   "source": [
    "# Table of Contents\n",
    "1. [Data Used in This Notebook](#data_used_in_this_notebook)\n",
    "2. "
   ]
  },
  {
   "cell_type": "markdown",
   "metadata": {},
   "source": [
    "## Data Used in this Notebook"
   ]
  },
  {
   "cell_type": "markdown",
   "metadata": {},
   "source": [
    "---"
   ]
  }
 ],
 "metadata": {
  "kernelspec": {
   "display_name": "Python 3.10.5 64-bit",
   "language": "python",
   "name": "python3"
  },
  "language_info": {
   "codemirror_mode": {
    "name": "ipython",
    "version": 3
   },
   "file_extension": ".py",
   "mimetype": "text/x-python",
   "name": "python",
   "nbconvert_exporter": "python",
   "pygments_lexer": "ipython3",
   "version": "3.10.5"
  },
  "orig_nbformat": 4,
  "vscode": {
   "interpreter": {
    "hash": "091e0d0d32c6091c0478f6f1184b6b5745db7d9b673ee850072a8d182c9dac71"
   }
  }
 },
 "nbformat": 4,
 "nbformat_minor": 2
}
